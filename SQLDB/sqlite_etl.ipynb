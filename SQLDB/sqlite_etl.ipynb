{
 "cells": [
  {
   "cell_type": "code",
   "execution_count": 86,
   "id": "15b73f15",
   "metadata": {},
   "outputs": [],
   "source": [
    "# Utils notebook read\n",
    "\n",
    "%run utils.ipynb"
   ]
  },
  {
   "cell_type": "code",
   "execution_count": 88,
   "id": "0496bf2d",
   "metadata": {},
   "outputs": [],
   "source": [
    "# Dataframe and tables variables\n",
    "\n",
    "amazon_folder_path = 'amazon-data/'\n",
    "titles_folder_path = 'titles/titles.csv'\n",
    "\n",
    "\n",
    "database_name = 'database_sqlite.db'\n",
    "amazon_table_name = 'amazon-data'\n",
    "titles_table_name = 'titles'\n",
    "titles_cleaned_table_name = 'titles-cleaned'\n",
    "\n",
    "date_regular_expression = r'\\d{4}-\\d{2}'"
   ]
  },
  {
   "cell_type": "code",
   "execution_count": 89,
   "id": "1311cc5c",
   "metadata": {},
   "outputs": [],
   "source": [
    "# Define schemas\n",
    "\n",
    "amazon_schema = {\n",
    "    'title': 'string',\n",
    "    'title_link': 'string',\n",
    "    'author': 'string',\n",
    "    'publisher': 'string',\n",
    "    'publication_date': 'string',\n",
    "    '#pages': 'float',\n",
    "    'reading_age': 'string',\n",
    "    'average_rating': 'float',\n",
    "    'sales_rank': 'int'\n",
    "}\n",
    "\n",
    "titles_schema = {\n",
    "    'title': 'string',\n",
    "    'title_link': 'string',\n",
    "    'author': 'string',\n",
    "    'publisher': 'string',\n",
    "    'publication_date': 'string',\n",
    "    '#pages': 'float',\n",
    "    'isbn-10': 'string',\n",
    "    'isbn-13': 'string',\n",
    "    'reading_age': 'string'\n",
    "}"
   ]
  },
  {
   "cell_type": "code",
   "execution_count": 90,
   "id": "f16a5f1b",
   "metadata": {},
   "outputs": [],
   "source": [
    "# Create dataframes\n",
    "\n",
    "amazon_df = create_dataframe_in_folder_with_date_field(amazon_folder_path,amazon_schema,date_regular_expression)\n",
    "titles_df = create_dataframe(titles_folder_path,titles_schema)"
   ]
  },
  {
   "cell_type": "code",
   "execution_count": 92,
   "id": "f86e7d1a",
   "metadata": {},
   "outputs": [],
   "source": [
    "# Apply the cleaning title function to the amazon DataFrame\n",
    "\n",
    "titles_cleaned_df = titles_df[['title']].copy()\n",
    "titles_cleaned_df['data_cleaned'] = titles_cleaned_df['title'].apply(clean_title)"
   ]
  },
  {
   "cell_type": "code",
   "execution_count": null,
   "id": "af2b30d1",
   "metadata": {},
   "outputs": [],
   "source": [
    "# Connect to DB and create tables\n",
    "\n",
    "amazon_write_to_db = write_to_db(amazon_df,database_name,amazon_table_name)\n",
    "titles_write_to_db = write_to_db(titles_df,database_name,titles_table_name)\n",
    "titles_cleaned_write_to_db = write_to_db(titles_cleaned_df,database_name,titles_cleaned_table_name)"
   ]
  }
 ],
 "metadata": {
  "kernelspec": {
   "display_name": "Python 3",
   "language": "python",
   "name": "python3"
  },
  "language_info": {
   "codemirror_mode": {
    "name": "ipython",
    "version": 3
   },
   "file_extension": ".py",
   "mimetype": "text/x-python",
   "name": "python",
   "nbconvert_exporter": "python",
   "pygments_lexer": "ipython3",
   "version": "3.10.4"
  }
 },
 "nbformat": 4,
 "nbformat_minor": 5
}
